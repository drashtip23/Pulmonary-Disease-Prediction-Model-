{
 "cells": [
  {
   "cell_type": "markdown",
   "metadata": {},
   "source": [
    "\n",
    "    1. Demographic Information:\n",
    "    AGE – Patient’s age.\n",
    "    GENDER – Patient’s gender.\n",
    "    2. Lifestyle & Environmental Factors:\n",
    "    SMOKING – Whether the patient smokes.\n",
    "    ALCOHOL_CONSUMPTION – Alcohol consumption habits.\n",
    "    EXPOSURE_TO_POLLUTION – Level of pollution exposure.\n",
    "    3. Health Conditions & Symptoms:\n",
    "    FINGER_DISCOLORATION – Presence of finger discoloration.\n",
    "    MENTAL_STRESS – Mental stress levels.\n",
    "    LONG_TERM_ILLNESS – Any chronic illnesses.\n",
    "    ENERGY_LEVEL – Patient’s energy levels.\n",
    "    IMMUNE_WEAKNESS – Weakness in immune system.\n",
    "    BREATHING_ISSUE – Difficulty in breathing.\n",
    "    THROAT_DISCOMFORT – Discomfort in the throat.\n",
    "    OXYGEN_SATURATION – Oxygen saturation levels.\n",
    "    CHEST_TIGHTNESS – Feeling of tightness in the chest.\n",
    "    4. Family History & Genetic Factors:\n",
    "    FAMILY_HISTORY – History of lung disease in the family.\n",
    "    SMOKING_FAMILY_HISTORY – Family history of smoking.\n",
    "    STRESS_IMMUNE – Stress-induced immune response.\n",
    "    5. Target Variable (Prediction Outcome):\n",
    "    PULMONARY_DISEASE – Whether the patient has pulmonary disease (Yes/No)."
   ]
  },
  {
   "cell_type": "code",
   "execution_count": 8,
   "metadata": {
    "id": "l9LjhQ0oLInE"
   },
   "outputs": [],
   "source": [
    "# Loading Libraries\n",
    "import pandas as pd                    # data analysis\n",
    "import numpy as np                     # scientific calculations\n",
    "import seaborn as sns                  # Statistical process\n",
    "import matplotlib.pyplot as plt        # plotting\n",
    "import statsmodels.api as sm"
   ]
  },
  {
   "cell_type": "code",
   "execution_count": 9,
   "metadata": {
    "id": "A0fRV2RQLInM"
   },
   "outputs": [],
   "source": [
    "# Importing data\n",
    "pf_data = pd.read_csv(r'C:\\Users\\patel d d\\Desktop\\Machine learning\\Personal project\\Pulmonary Disease- Lung Cancer Dataset.csv')"
   ]
  },
  {
   "cell_type": "code",
   "execution_count": 10,
   "metadata": {
    "id": "WCtNwHTbLInN"
   },
   "outputs": [
    {
     "name": "stdout",
     "output_type": "stream",
     "text": [
      "      AGE  GENDER  SMOKING  FINGER_DISCOLORATION  MENTAL_STRESS  \\\n",
      "0      68       1        1                     1              1   \n",
      "1      81       1        1                     0              0   \n",
      "2      58       1        1                     0              0   \n",
      "3      44       0        1                     0              1   \n",
      "4      72       0        1                     1              1   \n",
      "...   ...     ...      ...                   ...            ...   \n",
      "4995   32       0        1                     1              0   \n",
      "4996   80       0        1                     1              1   \n",
      "4997   51       1        0                     0              1   \n",
      "4998   76       1        0                     1              0   \n",
      "4999   33       0        1                     0              0   \n",
      "\n",
      "      EXPOSURE_TO_POLLUTION  LONG_TERM_ILLNESS  ENERGY_LEVEL  IMMUNE_WEAKNESS  \\\n",
      "0                         1                  0     57.831178                0   \n",
      "1                         1                  1     47.694835                1   \n",
      "2                         0                  0     59.577435                0   \n",
      "3                         1                  0     59.785767                0   \n",
      "4                         1                  1     59.733941                0   \n",
      "...                     ...                ...           ...              ...   \n",
      "4995                      0                  1     60.700696                1   \n",
      "4996                      1                  1     50.751741                0   \n",
      "4997                      0                  0     61.063496                1   \n",
      "4998                      0                  0     48.662872                0   \n",
      "4999                      1                  1     58.245188                0   \n",
      "\n",
      "      BREATHING_ISSUE  ALCOHOL_CONSUMPTION  THROAT_DISCOMFORT  \\\n",
      "0                   0                    1                  1   \n",
      "1                   1                    0                  1   \n",
      "2                   1                    1                  0   \n",
      "3                   1                    0                  1   \n",
      "4                   1                    0                  1   \n",
      "...               ...                  ...                ...   \n",
      "4995                1                    1                  1   \n",
      "4996                1                    1                  1   \n",
      "4997                0                    0                  0   \n",
      "4998                1                    0                  1   \n",
      "4999                1                    1                  1   \n",
      "\n",
      "      OXYGEN_SATURATION  CHEST_TIGHTNESS  FAMILY_HISTORY  \\\n",
      "0             95.977287                1               0   \n",
      "1             97.184483                0               0   \n",
      "2             94.974939                0               0   \n",
      "3             95.187900                0               0   \n",
      "4             93.503008                0               0   \n",
      "...                 ...              ...             ...   \n",
      "4995          94.012495                0               1   \n",
      "4996          94.394968                0               0   \n",
      "4997          98.108901                0               0   \n",
      "4998          95.577773                1               0   \n",
      "4999          94.206934                1               0   \n",
      "\n",
      "      SMOKING_FAMILY_HISTORY  STRESS_IMMUNE PULMONARY_DISEASE  \n",
      "0                          0              0                NO  \n",
      "1                          0              0               YES  \n",
      "2                          0              0                NO  \n",
      "3                          0              0               YES  \n",
      "4                          0              0               YES  \n",
      "...                      ...            ...               ...  \n",
      "4995                       1              0               YES  \n",
      "4996                       0              0               YES  \n",
      "4997                       0              1                NO  \n",
      "4998                       0              0                NO  \n",
      "4999                       0              0                NO  \n",
      "\n",
      "[5000 rows x 18 columns]\n"
     ]
    }
   ],
   "source": [
    "# Understanding data\n",
    "print(pf_data)"
   ]
  },
  {
   "cell_type": "code",
   "execution_count": 11,
   "metadata": {},
   "outputs": [
    {
     "data": {
      "text/plain": [
       "Index(['AGE', 'GENDER', 'SMOKING', 'FINGER_DISCOLORATION', 'MENTAL_STRESS',\n",
       "       'EXPOSURE_TO_POLLUTION', 'LONG_TERM_ILLNESS', 'ENERGY_LEVEL',\n",
       "       'IMMUNE_WEAKNESS', 'BREATHING_ISSUE', 'ALCOHOL_CONSUMPTION',\n",
       "       'THROAT_DISCOMFORT', 'OXYGEN_SATURATION', 'CHEST_TIGHTNESS',\n",
       "       'FAMILY_HISTORY', 'SMOKING_FAMILY_HISTORY', 'STRESS_IMMUNE',\n",
       "       'PULMONARY_DISEASE'],\n",
       "      dtype='object')"
      ]
     },
     "execution_count": 11,
     "metadata": {},
     "output_type": "execute_result"
    }
   ],
   "source": [
    "pf_data.columns"
   ]
  },
  {
   "cell_type": "code",
   "execution_count": 12,
   "metadata": {
    "id": "2ewrPz_WLInP"
   },
   "outputs": [
    {
     "data": {
      "text/html": [
       "<div>\n",
       "<style scoped>\n",
       "    .dataframe tbody tr th:only-of-type {\n",
       "        vertical-align: middle;\n",
       "    }\n",
       "\n",
       "    .dataframe tbody tr th {\n",
       "        vertical-align: top;\n",
       "    }\n",
       "\n",
       "    .dataframe thead th {\n",
       "        text-align: right;\n",
       "    }\n",
       "</style>\n",
       "<table border=\"1\" class=\"dataframe\">\n",
       "  <thead>\n",
       "    <tr style=\"text-align: right;\">\n",
       "      <th></th>\n",
       "      <th>AGE</th>\n",
       "      <th>GENDER</th>\n",
       "      <th>SMOKING</th>\n",
       "      <th>FINGER_DISCOLORATION</th>\n",
       "      <th>MENTAL_STRESS</th>\n",
       "      <th>EXPOSURE_TO_POLLUTION</th>\n",
       "      <th>LONG_TERM_ILLNESS</th>\n",
       "      <th>ENERGY_LEVEL</th>\n",
       "      <th>IMMUNE_WEAKNESS</th>\n",
       "      <th>BREATHING_ISSUE</th>\n",
       "      <th>ALCOHOL_CONSUMPTION</th>\n",
       "      <th>THROAT_DISCOMFORT</th>\n",
       "      <th>OXYGEN_SATURATION</th>\n",
       "      <th>CHEST_TIGHTNESS</th>\n",
       "      <th>FAMILY_HISTORY</th>\n",
       "      <th>SMOKING_FAMILY_HISTORY</th>\n",
       "      <th>STRESS_IMMUNE</th>\n",
       "      <th>PULMONARY_DISEASE</th>\n",
       "    </tr>\n",
       "  </thead>\n",
       "  <tbody>\n",
       "    <tr>\n",
       "      <th>0</th>\n",
       "      <td>68</td>\n",
       "      <td>1</td>\n",
       "      <td>1</td>\n",
       "      <td>1</td>\n",
       "      <td>1</td>\n",
       "      <td>1</td>\n",
       "      <td>0</td>\n",
       "      <td>57.831178</td>\n",
       "      <td>0</td>\n",
       "      <td>0</td>\n",
       "      <td>1</td>\n",
       "      <td>1</td>\n",
       "      <td>95.977287</td>\n",
       "      <td>1</td>\n",
       "      <td>0</td>\n",
       "      <td>0</td>\n",
       "      <td>0</td>\n",
       "      <td>NO</td>\n",
       "    </tr>\n",
       "    <tr>\n",
       "      <th>1</th>\n",
       "      <td>81</td>\n",
       "      <td>1</td>\n",
       "      <td>1</td>\n",
       "      <td>0</td>\n",
       "      <td>0</td>\n",
       "      <td>1</td>\n",
       "      <td>1</td>\n",
       "      <td>47.694835</td>\n",
       "      <td>1</td>\n",
       "      <td>1</td>\n",
       "      <td>0</td>\n",
       "      <td>1</td>\n",
       "      <td>97.184483</td>\n",
       "      <td>0</td>\n",
       "      <td>0</td>\n",
       "      <td>0</td>\n",
       "      <td>0</td>\n",
       "      <td>YES</td>\n",
       "    </tr>\n",
       "    <tr>\n",
       "      <th>2</th>\n",
       "      <td>58</td>\n",
       "      <td>1</td>\n",
       "      <td>1</td>\n",
       "      <td>0</td>\n",
       "      <td>0</td>\n",
       "      <td>0</td>\n",
       "      <td>0</td>\n",
       "      <td>59.577435</td>\n",
       "      <td>0</td>\n",
       "      <td>1</td>\n",
       "      <td>1</td>\n",
       "      <td>0</td>\n",
       "      <td>94.974939</td>\n",
       "      <td>0</td>\n",
       "      <td>0</td>\n",
       "      <td>0</td>\n",
       "      <td>0</td>\n",
       "      <td>NO</td>\n",
       "    </tr>\n",
       "    <tr>\n",
       "      <th>3</th>\n",
       "      <td>44</td>\n",
       "      <td>0</td>\n",
       "      <td>1</td>\n",
       "      <td>0</td>\n",
       "      <td>1</td>\n",
       "      <td>1</td>\n",
       "      <td>0</td>\n",
       "      <td>59.785767</td>\n",
       "      <td>0</td>\n",
       "      <td>1</td>\n",
       "      <td>0</td>\n",
       "      <td>1</td>\n",
       "      <td>95.187900</td>\n",
       "      <td>0</td>\n",
       "      <td>0</td>\n",
       "      <td>0</td>\n",
       "      <td>0</td>\n",
       "      <td>YES</td>\n",
       "    </tr>\n",
       "    <tr>\n",
       "      <th>4</th>\n",
       "      <td>72</td>\n",
       "      <td>0</td>\n",
       "      <td>1</td>\n",
       "      <td>1</td>\n",
       "      <td>1</td>\n",
       "      <td>1</td>\n",
       "      <td>1</td>\n",
       "      <td>59.733941</td>\n",
       "      <td>0</td>\n",
       "      <td>1</td>\n",
       "      <td>0</td>\n",
       "      <td>1</td>\n",
       "      <td>93.503008</td>\n",
       "      <td>0</td>\n",
       "      <td>0</td>\n",
       "      <td>0</td>\n",
       "      <td>0</td>\n",
       "      <td>YES</td>\n",
       "    </tr>\n",
       "  </tbody>\n",
       "</table>\n",
       "</div>"
      ],
      "text/plain": [
       "   AGE  GENDER  SMOKING  FINGER_DISCOLORATION  MENTAL_STRESS  \\\n",
       "0   68       1        1                     1              1   \n",
       "1   81       1        1                     0              0   \n",
       "2   58       1        1                     0              0   \n",
       "3   44       0        1                     0              1   \n",
       "4   72       0        1                     1              1   \n",
       "\n",
       "   EXPOSURE_TO_POLLUTION  LONG_TERM_ILLNESS  ENERGY_LEVEL  IMMUNE_WEAKNESS  \\\n",
       "0                      1                  0     57.831178                0   \n",
       "1                      1                  1     47.694835                1   \n",
       "2                      0                  0     59.577435                0   \n",
       "3                      1                  0     59.785767                0   \n",
       "4                      1                  1     59.733941                0   \n",
       "\n",
       "   BREATHING_ISSUE  ALCOHOL_CONSUMPTION  THROAT_DISCOMFORT  OXYGEN_SATURATION  \\\n",
       "0                0                    1                  1          95.977287   \n",
       "1                1                    0                  1          97.184483   \n",
       "2                1                    1                  0          94.974939   \n",
       "3                1                    0                  1          95.187900   \n",
       "4                1                    0                  1          93.503008   \n",
       "\n",
       "   CHEST_TIGHTNESS  FAMILY_HISTORY  SMOKING_FAMILY_HISTORY  STRESS_IMMUNE  \\\n",
       "0                1               0                       0              0   \n",
       "1                0               0                       0              0   \n",
       "2                0               0                       0              0   \n",
       "3                0               0                       0              0   \n",
       "4                0               0                       0              0   \n",
       "\n",
       "  PULMONARY_DISEASE  \n",
       "0                NO  \n",
       "1               YES  \n",
       "2                NO  \n",
       "3               YES  \n",
       "4               YES  "
      ]
     },
     "execution_count": 12,
     "metadata": {},
     "output_type": "execute_result"
    }
   ],
   "source": [
    "# Understanding data\n",
    "pf_data.head()"
   ]
  },
  {
   "cell_type": "code",
   "execution_count": 13,
   "metadata": {
    "id": "tMoMhpc0LInQ"
   },
   "outputs": [
    {
     "name": "stdout",
     "output_type": "stream",
     "text": [
      "Count of observations by dependent variable:\n",
      "PULMONARY_DISEASE\n",
      "NO     2963\n",
      "YES    2037\n",
      "Name: count, dtype: int64\n"
     ]
    }
   ],
   "source": [
    "# Count the occurrences of each unique value in the dependent variable\n",
    "value_counts = pf_data['PULMONARY_DISEASE'].value_counts()\n",
    "\n",
    "# Print the counts\n",
    "print(\"Count of observations by dependent variable:\")\n",
    "print(value_counts)"
   ]
  },
  {
   "cell_type": "code",
   "execution_count": 14,
   "metadata": {
    "id": "2d0QyWTyLInQ"
   },
   "outputs": [
    {
     "name": "stdout",
     "output_type": "stream",
     "text": [
      "AGE                       0\n",
      "GENDER                    0\n",
      "SMOKING                   0\n",
      "FINGER_DISCOLORATION      0\n",
      "MENTAL_STRESS             0\n",
      "EXPOSURE_TO_POLLUTION     0\n",
      "LONG_TERM_ILLNESS         0\n",
      "ENERGY_LEVEL              0\n",
      "IMMUNE_WEAKNESS           0\n",
      "BREATHING_ISSUE           0\n",
      "ALCOHOL_CONSUMPTION       0\n",
      "THROAT_DISCOMFORT         0\n",
      "OXYGEN_SATURATION         0\n",
      "CHEST_TIGHTNESS           0\n",
      "FAMILY_HISTORY            0\n",
      "SMOKING_FAMILY_HISTORY    0\n",
      "STRESS_IMMUNE             0\n",
      "PULMONARY_DISEASE         0\n",
      "dtype: int64\n"
     ]
    }
   ],
   "source": [
    "# Check for missing values and removing it\n",
    "\n",
    "print(pf_data.isnull().sum())\n",
    "\n",
    "pf_data.dropna(inplace=True)"
   ]
  },
  {
   "cell_type": "code",
   "execution_count": 15,
   "metadata": {
    "id": "U4Mc3WBILInR"
   },
   "outputs": [],
   "source": [
    "# Encoding categorical variables\n",
    "from sklearn.preprocessing import LabelEncoder\n",
    "label_encoder = LabelEncoder()\n",
    "pf_data[\"PULMONARY_DISEASE\"] = label_encoder.fit_transform(pf_data[\"PULMONARY_DISEASE\"])"
   ]
  },
  {
   "cell_type": "code",
   "execution_count": 16,
   "metadata": {},
   "outputs": [
    {
     "data": {
      "text/html": [
       "<div>\n",
       "<style scoped>\n",
       "    .dataframe tbody tr th:only-of-type {\n",
       "        vertical-align: middle;\n",
       "    }\n",
       "\n",
       "    .dataframe tbody tr th {\n",
       "        vertical-align: top;\n",
       "    }\n",
       "\n",
       "    .dataframe thead th {\n",
       "        text-align: right;\n",
       "    }\n",
       "</style>\n",
       "<table border=\"1\" class=\"dataframe\">\n",
       "  <thead>\n",
       "    <tr style=\"text-align: right;\">\n",
       "      <th></th>\n",
       "      <th>AGE</th>\n",
       "      <th>GENDER</th>\n",
       "      <th>SMOKING</th>\n",
       "      <th>FINGER_DISCOLORATION</th>\n",
       "      <th>MENTAL_STRESS</th>\n",
       "      <th>EXPOSURE_TO_POLLUTION</th>\n",
       "      <th>LONG_TERM_ILLNESS</th>\n",
       "      <th>ENERGY_LEVEL</th>\n",
       "      <th>IMMUNE_WEAKNESS</th>\n",
       "      <th>BREATHING_ISSUE</th>\n",
       "      <th>ALCOHOL_CONSUMPTION</th>\n",
       "      <th>THROAT_DISCOMFORT</th>\n",
       "      <th>OXYGEN_SATURATION</th>\n",
       "      <th>CHEST_TIGHTNESS</th>\n",
       "      <th>FAMILY_HISTORY</th>\n",
       "      <th>SMOKING_FAMILY_HISTORY</th>\n",
       "      <th>STRESS_IMMUNE</th>\n",
       "      <th>PULMONARY_DISEASE</th>\n",
       "    </tr>\n",
       "  </thead>\n",
       "  <tbody>\n",
       "    <tr>\n",
       "      <th>0</th>\n",
       "      <td>68</td>\n",
       "      <td>1</td>\n",
       "      <td>1</td>\n",
       "      <td>1</td>\n",
       "      <td>1</td>\n",
       "      <td>1</td>\n",
       "      <td>0</td>\n",
       "      <td>57.831178</td>\n",
       "      <td>0</td>\n",
       "      <td>0</td>\n",
       "      <td>1</td>\n",
       "      <td>1</td>\n",
       "      <td>95.977287</td>\n",
       "      <td>1</td>\n",
       "      <td>0</td>\n",
       "      <td>0</td>\n",
       "      <td>0</td>\n",
       "      <td>0</td>\n",
       "    </tr>\n",
       "    <tr>\n",
       "      <th>1</th>\n",
       "      <td>81</td>\n",
       "      <td>1</td>\n",
       "      <td>1</td>\n",
       "      <td>0</td>\n",
       "      <td>0</td>\n",
       "      <td>1</td>\n",
       "      <td>1</td>\n",
       "      <td>47.694835</td>\n",
       "      <td>1</td>\n",
       "      <td>1</td>\n",
       "      <td>0</td>\n",
       "      <td>1</td>\n",
       "      <td>97.184483</td>\n",
       "      <td>0</td>\n",
       "      <td>0</td>\n",
       "      <td>0</td>\n",
       "      <td>0</td>\n",
       "      <td>1</td>\n",
       "    </tr>\n",
       "    <tr>\n",
       "      <th>2</th>\n",
       "      <td>58</td>\n",
       "      <td>1</td>\n",
       "      <td>1</td>\n",
       "      <td>0</td>\n",
       "      <td>0</td>\n",
       "      <td>0</td>\n",
       "      <td>0</td>\n",
       "      <td>59.577435</td>\n",
       "      <td>0</td>\n",
       "      <td>1</td>\n",
       "      <td>1</td>\n",
       "      <td>0</td>\n",
       "      <td>94.974939</td>\n",
       "      <td>0</td>\n",
       "      <td>0</td>\n",
       "      <td>0</td>\n",
       "      <td>0</td>\n",
       "      <td>0</td>\n",
       "    </tr>\n",
       "    <tr>\n",
       "      <th>3</th>\n",
       "      <td>44</td>\n",
       "      <td>0</td>\n",
       "      <td>1</td>\n",
       "      <td>0</td>\n",
       "      <td>1</td>\n",
       "      <td>1</td>\n",
       "      <td>0</td>\n",
       "      <td>59.785767</td>\n",
       "      <td>0</td>\n",
       "      <td>1</td>\n",
       "      <td>0</td>\n",
       "      <td>1</td>\n",
       "      <td>95.187900</td>\n",
       "      <td>0</td>\n",
       "      <td>0</td>\n",
       "      <td>0</td>\n",
       "      <td>0</td>\n",
       "      <td>1</td>\n",
       "    </tr>\n",
       "    <tr>\n",
       "      <th>4</th>\n",
       "      <td>72</td>\n",
       "      <td>0</td>\n",
       "      <td>1</td>\n",
       "      <td>1</td>\n",
       "      <td>1</td>\n",
       "      <td>1</td>\n",
       "      <td>1</td>\n",
       "      <td>59.733941</td>\n",
       "      <td>0</td>\n",
       "      <td>1</td>\n",
       "      <td>0</td>\n",
       "      <td>1</td>\n",
       "      <td>93.503008</td>\n",
       "      <td>0</td>\n",
       "      <td>0</td>\n",
       "      <td>0</td>\n",
       "      <td>0</td>\n",
       "      <td>1</td>\n",
       "    </tr>\n",
       "  </tbody>\n",
       "</table>\n",
       "</div>"
      ],
      "text/plain": [
       "   AGE  GENDER  SMOKING  FINGER_DISCOLORATION  MENTAL_STRESS  \\\n",
       "0   68       1        1                     1              1   \n",
       "1   81       1        1                     0              0   \n",
       "2   58       1        1                     0              0   \n",
       "3   44       0        1                     0              1   \n",
       "4   72       0        1                     1              1   \n",
       "\n",
       "   EXPOSURE_TO_POLLUTION  LONG_TERM_ILLNESS  ENERGY_LEVEL  IMMUNE_WEAKNESS  \\\n",
       "0                      1                  0     57.831178                0   \n",
       "1                      1                  1     47.694835                1   \n",
       "2                      0                  0     59.577435                0   \n",
       "3                      1                  0     59.785767                0   \n",
       "4                      1                  1     59.733941                0   \n",
       "\n",
       "   BREATHING_ISSUE  ALCOHOL_CONSUMPTION  THROAT_DISCOMFORT  OXYGEN_SATURATION  \\\n",
       "0                0                    1                  1          95.977287   \n",
       "1                1                    0                  1          97.184483   \n",
       "2                1                    1                  0          94.974939   \n",
       "3                1                    0                  1          95.187900   \n",
       "4                1                    0                  1          93.503008   \n",
       "\n",
       "   CHEST_TIGHTNESS  FAMILY_HISTORY  SMOKING_FAMILY_HISTORY  STRESS_IMMUNE  \\\n",
       "0                1               0                       0              0   \n",
       "1                0               0                       0              0   \n",
       "2                0               0                       0              0   \n",
       "3                0               0                       0              0   \n",
       "4                0               0                       0              0   \n",
       "\n",
       "   PULMONARY_DISEASE  \n",
       "0                  0  \n",
       "1                  1  \n",
       "2                  0  \n",
       "3                  1  \n",
       "4                  1  "
      ]
     },
     "execution_count": 16,
     "metadata": {},
     "output_type": "execute_result"
    }
   ],
   "source": [
    "pf_data.head()"
   ]
  },
  {
   "cell_type": "code",
   "execution_count": 17,
   "metadata": {
    "id": "61RhyfYaLInR"
   },
   "outputs": [],
   "source": [
    "# Defining Independent and dependent variables\n",
    "x = pf_data.drop(['PULMONARY_DISEASE','AGE','MENTAL_STRESS','GENDER','IMMUNE_WEAKNESS','LONG_TERM_ILLNESS',\n",
    "                  'ALCOHOL_CONSUMPTION','OXYGEN_SATURATION','CHEST_TIGHTNESS','FINGER_DISCOLORATION'],axis = 1)\n",
    "y = pf_data.PULMONARY_DISEASE"
   ]
  },
  {
   "cell_type": "code",
   "execution_count": 18,
   "metadata": {},
   "outputs": [],
   "source": [
    "from sklearn.preprocessing import StandardScaler\n",
    "\n",
    "scaler = StandardScaler()\n",
    "X_train = scaler.fit_transform(x)\n",
    "X_test = scaler.transform(x)"
   ]
  },
  {
   "cell_type": "code",
   "execution_count": 19,
   "metadata": {
    "id": "ZBinF_keLInS"
   },
   "outputs": [],
   "source": [
    "# Splitting data into train and test\n",
    "from sklearn.model_selection import train_test_split\n",
    "x_train, x_test, y_train, y_test = train_test_split(x, y, test_size=0.3,random_state=4)"
   ]
  },
  {
   "cell_type": "code",
   "execution_count": 20,
   "metadata": {
    "id": "Tcgm_aHALInT"
   },
   "outputs": [
    {
     "name": "stdout",
     "output_type": "stream",
     "text": [
      "Optimization terminated successfully.\n",
      "         Current function value: 0.359955\n",
      "         Iterations 7\n",
      "                           Logit Regression Results                           \n",
      "==============================================================================\n",
      "Dep. Variable:      PULMONARY_DISEASE   No. Observations:                 3500\n",
      "Model:                          Logit   Df Residuals:                     3491\n",
      "Method:                           MLE   Df Model:                            8\n",
      "Date:                Thu, 13 Mar 2025   Pseudo R-squ.:                  0.4681\n",
      "Time:                        00:03:27   Log-Likelihood:                -1259.8\n",
      "converged:                       True   LL-Null:                       -2368.6\n",
      "Covariance Type:            nonrobust   LLR p-value:                     0.000\n",
      "==========================================================================================\n",
      "                             coef    std err          z      P>|z|      [0.025      0.975]\n",
      "------------------------------------------------------------------------------------------\n",
      "const                    -13.2122      0.546    -24.199      0.000     -14.282     -12.142\n",
      "SMOKING                    3.3298      0.163     20.436      0.000       3.010       3.649\n",
      "EXPOSURE_TO_POLLUTION      0.9019      0.103      8.754      0.000       0.700       1.104\n",
      "ENERGY_LEVEL               0.0854      0.007     12.616      0.000       0.072       0.099\n",
      "BREATHING_ISSUE            2.9479      0.158     18.663      0.000       2.638       3.257\n",
      "THROAT_DISCOMFORT          2.6852      0.132     20.360      0.000       2.427       2.944\n",
      "FAMILY_HISTORY            -0.3942      0.264     -1.492      0.136      -0.912       0.124\n",
      "SMOKING_FAMILY_HISTORY     1.9216      0.296      6.493      0.000       1.342       2.502\n",
      "STRESS_IMMUNE              1.8504      0.131     14.122      0.000       1.594       2.107\n",
      "==========================================================================================\n"
     ]
    }
   ],
   "source": [
    "# Using statsmodels for detailed model summary\n",
    "\n",
    "x_train_sm = sm.add_constant(x_train)\n",
    "logit_model = sm.Logit(y_train, x_train_sm)\n",
    "result = logit_model.fit()\n",
    "\n",
    "# Summary of the logistic regression model\n",
    "print(result.summary())"
   ]
  },
  {
   "cell_type": "code",
   "execution_count": 21,
   "metadata": {
    "id": "AvDvQH1xLInY"
   },
   "outputs": [
    {
     "data": {
      "text/plain": [
       "2175    0.821823\n",
       "3156    0.289402\n",
       "337     0.366823\n",
       "444     0.991002\n",
       "2334    0.010916\n",
       "          ...   \n",
       "2163    0.832260\n",
       "4117    0.001838\n",
       "2185    0.106380\n",
       "3128    0.098816\n",
       "3869    0.136412\n",
       "Length: 1500, dtype: float64"
      ]
     },
     "execution_count": 21,
     "metadata": {},
     "output_type": "execute_result"
    }
   ],
   "source": [
    "y_pred = result.predict(sm.add_constant(x_test))\n",
    "\n",
    "y_pred"
   ]
  },
  {
   "cell_type": "code",
   "execution_count": 22,
   "metadata": {
    "id": "3puttnQ5LInZ"
   },
   "outputs": [
    {
     "data": {
      "text/plain": [
       "2175    1\n",
       "3156    0\n",
       "337     0\n",
       "444     1\n",
       "2334    0\n",
       "       ..\n",
       "2163    1\n",
       "4117    0\n",
       "2185    0\n",
       "3128    0\n",
       "3869    0\n",
       "Length: 1500, dtype: int64"
      ]
     },
     "execution_count": 22,
     "metadata": {},
     "output_type": "execute_result"
    }
   ],
   "source": [
    "y_pred_binary = (y_pred >= 0.5).astype(int)\n",
    "y_pred_binary"
   ]
  },
  {
   "cell_type": "code",
   "execution_count": 23,
   "metadata": {
    "id": "4nyKjxwfLInZ"
   },
   "outputs": [
    {
     "data": {
      "text/plain": [
       "array([[822,  75],\n",
       "       [ 59, 544]])"
      ]
     },
     "execution_count": 23,
     "metadata": {},
     "output_type": "execute_result"
    }
   ],
   "source": [
    "#  Confusion Matrix\n",
    "from sklearn.metrics import confusion_matrix\n",
    "confusion_matrix(y_test,y_pred_binary)"
   ]
  },
  {
   "cell_type": "markdown",
   "metadata": {
    "id": "q5evuAbsLIna"
   },
   "source": [
    "         Predicted\n",
    "          0    1\n",
    "Actual 0  TN   FP\n",
    "       1  FN   TP\n",
    "TN (True Negative): The number of true negative predictions (actual class 0, predicted class 0)\n",
    "FP (False Positive): The number of false positive predictions (actual class 0, predicted class 1)\n",
    "FN (False Negative): The number of false negative predictions (actual class 1, predicted class 0)\n",
    "TP (True Positive): The number of true positive predictions (actual class 1, predicted class 1)"
   ]
  },
  {
   "cell_type": "code",
   "execution_count": 24,
   "metadata": {
    "id": "4sgYWBNwLInb"
   },
   "outputs": [
    {
     "name": "stdout",
     "output_type": "stream",
     "text": [
      "accuracy of model is :91.07%\n"
     ]
    }
   ],
   "source": [
    "# Accuracy Score\n",
    "from sklearn.metrics import accuracy_score\n",
    "accuracy = accuracy_score(y_test,y_pred_binary)\n",
    "print(f'accuracy of model is :{accuracy*100:.2f}%')"
   ]
  },
  {
   "cell_type": "code",
   "execution_count": 25,
   "metadata": {
    "id": "GTYkIIgiLInb"
   },
   "outputs": [
    {
     "name": "stdout",
     "output_type": "stream",
     "text": [
      "AUC: 0.93\n"
     ]
    },
    {
     "data": {
      "image/png": "[encoded data removed]",
      "text/plain": [
       "<Figure size 800x600 with 1 Axes>"
      ]
     },
     "metadata": {},
     "output_type": "display_data"
    }
   ],
   "source": [
    "# ROC Curve and AUC\n",
    "from sklearn.metrics import roc_curve, roc_auc_score\n",
    "#y_prob = logistic_regression.predict_proba(x_test)[:, 1]\n",
    "fpr, tpr, thresholds = roc_curve(y_test, y_pred)\n",
    "auc = roc_auc_score(y_test, y_pred)\n",
    "print(f'AUC: {auc:.2f}')\n",
    "\n",
    "plt.figure(figsize=(8, 6))\n",
    "plt.plot(fpr, tpr, label=f'ROC Curve (AUC = {auc:.2f})')\n",
    "plt.plot([0, 1], [0, 1], 'k--')\n",
    "plt.xlabel('False Positive Rate')\n",
    "plt.ylabel('True Positive Rate')\n",
    "plt.title('ROC Curve')\n",
    "plt.legend(loc='lower right')\n",
    "plt.show()"
   ]
  },
  {
   "cell_type": "markdown",
   "metadata": {
    "id": "79-oEj0sLInc"
   },
   "source": [
    "ROC Curve (Receiver Operating Characteristic Curve): This is a plot of the true positive rate (TPR) against the false positive rate (FPR) at various threshold settings. The ROC curve illustrates the diagnostic ability of a binary classifier system as its discrimination threshold is varied.\n",
    "\n",
    "AUC (Area Under the Curve): This metric summarizes the ROC curve into a single value representing the likelihood that the model will rank a randomly chosen positive instance higher than a randomly chosen negative one.\n",
    "\n",
    "AUC = 0.5: No discrimination (random guessing)\n",
    "0.5 < AUC < 0.7: Poor model\n",
    "0.7 ≤ AUC < 0.8: Fair model\n",
    "0.8 ≤ AUC < 0.9: Good model\n",
    "0.9 ≤ AUC < 1: Excellent model"
   ]
  },
  {
   "cell_type": "code",
   "execution_count": 26,
   "metadata": {
    "id": "vdeh24kvLInd"
   },
   "outputs": [
    {
     "name": "stdout",
     "output_type": "stream",
     "text": [
      "[1.32965658e-07 3.66115644e-02 5.68656960e-07 2.11086678e-06\n",
      " 1.22178798e-07]\n"
     ]
    },
    {
     "data": {
      "text/plain": [
       "array([0, 0, 0, 0, 0])"
      ]
     },
     "execution_count": 26,
     "metadata": {},
     "output_type": "execute_result"
    }
   ],
   "source": [
    "# Prediction on new data\n",
    "\n",
    "New_data={'SMOKING':[1,1,0,0,1],\n",
    "        'EXPOSURE_TO_POLLUTION':[1,1,1,0,0], \n",
    "        'ENERGY_LEVEL':[50.75,89.61,56.25,23.89,68.77],\n",
    "        'BREATHING_ISSUE':[0,1,0,1,1],\n",
    "        'THROAT_DISCOMFORT':[1,1,1,1,0],\n",
    "       'FAMILY_HISTORY':[0,0,1,0,0], \n",
    "       'SMOKING_FAMILY_HISTORY':[0,1,1,0,0], \n",
    "       'STRESS_IMMUNE':[0,0,1,1,0]}\n",
    "df2 = pd.DataFrame(New_data,columns=['SMOKING','EXPOSURE_TO_POLLUTION', 'ENERGY_LEVEL',\n",
    "        'BREATHING_ISSUE','THROAT_DISCOMFORT',\n",
    "       'FAMILY_HISTORY', 'SMOKING_FAMILY_HISTORY', 'STRESS_IMMUNE'])\n",
    "\n",
    "X_new_scaled = scaler.transform(df2)\n",
    "\n",
    "# Add constant to the new data (df2)\n",
    "df2_sm = sm.add_constant(X_new_scaled)\n",
    "\n",
    "# Make predictions on the new data\n",
    "y_pred_new = result.predict(df2_sm)\n",
    "\n",
    "# Display the predictions\n",
    "print(y_pred_new)\n",
    "\n",
    "y_pred_binary_new = (y_pred_new >= 0.5).astype(int)\n",
    "y_pred_binary_new"
   ]
  },
  {
   "cell_type": "code",
   "execution_count": 27,
   "metadata": {
    "id": "I3BApxLFLIne"
   },
   "outputs": [
    {
     "name": "stdout",
     "output_type": "stream",
     "text": [
      "Warning: Maximum number of iterations has been exceeded.\n",
      "         Current function value: 0.357719\n",
      "         Iterations: 35\n",
      "                          MNLogit Regression Results                          \n",
      "==============================================================================\n",
      "Dep. Variable:      PULMONARY_DISEASE   No. Observations:                 3500\n",
      "Model:                        MNLogit   Df Residuals:                     3489\n",
      "Method:                           MLE   Df Model:                           10\n",
      "Date:                Thu, 13 Mar 2025   Pseudo R-squ.:                  0.4714\n",
      "Time:                        00:03:30   Log-Likelihood:                -1252.0\n",
      "converged:                      False   LL-Null:                       -2368.6\n",
      "Covariance Type:            nonrobust   LLR p-value:                     0.000\n",
      "======================================================================================================\n",
      "               PULMONARY_DISEASE=1       coef    std err          z      P>|z|      [0.025      0.975]\n",
      "------------------------------------------------------------------------------------------------------\n",
      "const                                124.0975     66.283      1.872      0.061      -5.815     254.010\n",
      "SMOKING                                1.7024   3.25e+06   5.25e-07      1.000   -6.36e+06    6.36e+06\n",
      "EXPOSURE_TO_POLLUTION                  0.4662   2.21e+06   2.11e-07      1.000   -4.34e+06    4.34e+06\n",
      "ENERGY_LEVEL                           9.2778      3.648      2.543      0.011       2.128      16.427\n",
      "BREATHING_ISSUE                        1.5166   1.46e+06   1.04e-06      1.000   -2.85e+06    2.85e+06\n",
      "THROAT_DISCOMFORT                      1.3735   2.41e+06    5.7e-07      1.000   -4.72e+06    4.72e+06\n",
      "FAMILY_HISTORY                        -0.1939   7.97e+06  -2.43e-08      1.000   -1.56e+07    1.56e+07\n",
      "SMOKING_FAMILY_HISTORY                 0.9845   5.22e+06   1.88e-07      1.000   -1.02e+07    1.02e+07\n",
      "STRESS_IMMUNE                          0.9550        nan        nan        nan         nan         nan\n",
      "log_SMOKING                            1.1800        nan        nan        nan         nan         nan\n",
      "interaction_SMOKING                    1.1800   1.32e+07   8.96e-08      1.000   -2.58e+07    2.58e+07\n",
      "log_EXPOSURE_TO_POLLUTION              0.3231   3.88e+06   8.33e-08      1.000    -7.6e+06     7.6e+06\n",
      "interaction_EXPOSURE_TO_POLLUTION      0.3231      0.218      1.485      0.138      -0.103       0.750\n",
      "log_ENERGY_LEVEL                     -73.2082     32.656     -2.242      0.025    -137.213      -9.204\n",
      "interaction_ENERGY_LEVEL              -1.5724      0.611     -2.572      0.010      -2.771      -0.374\n",
      "log_BREATHING_ISSUE                    1.0513        nan        nan        nan         nan         nan\n",
      "interaction_BREATHING_ISSUE            1.0513        nan        nan        nan         nan         nan\n",
      "log_THROAT_DISCOMFORT                  0.9521        nan        nan        nan         nan         nan\n",
      "interaction_THROAT_DISCOMFORT          0.9521   3.87e+06   2.46e-07      1.000   -7.59e+06    7.59e+06\n",
      "log_FAMILY_HISTORY                    -0.1345   8.31e+06  -1.62e-08      1.000   -1.63e+07    1.63e+07\n",
      "interaction_FAMILY_HISTORY            -0.1345          0       -inf      0.000      -0.135      -0.135\n",
      "log_SMOKING_FAMILY_HISTORY             0.6824        nan        nan        nan         nan         nan\n",
      "interaction_SMOKING_FAMILY_HISTORY     0.6824        nan        nan        nan         nan         nan\n",
      "log_STRESS_IMMUNE                      0.6619      1e+06   6.62e-07      1.000   -1.96e+06    1.96e+06\n",
      "interaction_STRESS_IMMUNE              0.6619         -0       -inf      0.000       0.662       0.662\n",
      "======================================================================================================\n"
     ]
    },
    {
     "name": "stderr",
     "output_type": "stream",
     "text": [
      "c:\\Users\\patel d d\\AppData\\Local\\Programs\\Python\\Python312\\Lib\\site-packages\\statsmodels\\base\\model.py:607: ConvergenceWarning: Maximum Likelihood optimization failed to converge. Check mle_retvals\n",
      "  warnings.warn(\"Maximum Likelihood optimization failed to \"\n",
      "c:\\Users\\patel d d\\AppData\\Local\\Programs\\Python\\Python312\\Lib\\site-packages\\statsmodels\\discrete\\discrete_model.py:5475: RuntimeWarning: invalid value encountered in sqrt\n",
      "  bse = np.sqrt(np.diag(self.cov_params()))\n"
     ]
    }
   ],
   "source": [
    "# Checking Assumptions: Linearity\n",
    "# Create a copy of the training data\n",
    "x_train_trans = x_train.copy()\n",
    "\n",
    "# Add log-transformed terms for continuous predictors\n",
    "continuous_vars = ['SMOKING','EXPOSURE_TO_POLLUTION', 'ENERGY_LEVEL',\n",
    "        'BREATHING_ISSUE','THROAT_DISCOMFORT',\n",
    "       'FAMILY_HISTORY', 'SMOKING_FAMILY_HISTORY', 'STRESS_IMMUNE']  # Replace with your actual column names\n",
    "for var in continuous_vars:\n",
    "    x_train_trans[f'log_{var}'] = np.log(x_train[var] + 1)  # Add 1 to avoid log(0)\n",
    "    x_train_trans[f'interaction_{var}'] = x_train[var] * x_train_trans[f'log_{var}']\n",
    "\n",
    "# Add constant column\n",
    "x_train_trans = sm.add_constant(x_train_trans)\n",
    "\n",
    "logit_model_interaction = sm.MNLogit(y_train, x_train_trans)\n",
    "result_interaction = logit_model_interaction.fit()\n",
    "\n",
    "# Print summary to check the significance of interaction terms\n",
    "print(result_interaction.summary())"
   ]
  },
  {
   "cell_type": "markdown",
   "metadata": {
    "id": "NVINCEKcLIne"
   },
   "source": [
    "If the interaction term is significant, the relationship may not be linear, and you might need a transformation or nonlinear model."
   ]
  },
  {
   "cell_type": "code",
   "execution_count": 28,
   "metadata": {
    "id": "aJ6v7AIULInf"
   },
   "outputs": [
    {
     "name": "stdout",
     "output_type": "stream",
     "text": [
      "                 Variable        VIF\n",
      "0                   const  60.996441\n",
      "1                 SMOKING   1.434989\n",
      "2   EXPOSURE_TO_POLLUTION   1.000618\n",
      "3            ENERGY_LEVEL   1.000726\n",
      "4         BREATHING_ISSUE   1.001438\n",
      "5       THROAT_DISCOMFORT   1.000979\n",
      "6          FAMILY_HISTORY   3.036094\n",
      "7  SMOKING_FAMILY_HISTORY   3.489257\n",
      "8           STRESS_IMMUNE   1.001038\n"
     ]
    }
   ],
   "source": [
    "# Checking Assumption: Multicollinearity\n",
    "\n",
    "from statsmodels.stats.outliers_influence import variance_inflation_factor\n",
    "\n",
    "# Calculate VIF for each variable in x_train_sm\n",
    "vif_data = pd.DataFrame()\n",
    "vif_data[\"Variable\"] = x_train_sm.columns\n",
    "vif_data[\"VIF\"] = [variance_inflation_factor(x_train_sm.values, i) for i in range(x_train_sm.shape[1])]\n",
    "\n",
    "# Print the VIF results\n",
    "print(vif_data)"
   ]
  },
  {
   "cell_type": "markdown",
   "metadata": {
    "id": "a2if7VsMLInf"
   },
   "source": [
    "Rule of Thumb: VIF > 10 indicates multicollinearity that may require attention."
   ]
  },
  {
   "cell_type": "code",
   "execution_count": 29,
   "metadata": {
    "id": "qh1TzqY1LInf"
   },
   "outputs": [
    {
     "name": "stdout",
     "output_type": "stream",
     "text": [
      "PULMONARY_DISEASE\n",
      "0    0.5926\n",
      "1    0.4074\n",
      "Name: proportion, dtype: float64\n"
     ]
    }
   ],
   "source": [
    "# Check class distribution\n",
    "print(pf_data['PULMONARY_DISEASE'].value_counts(normalize=True))"
   ]
  },
  {
   "cell_type": "markdown",
   "metadata": {
    "id": "PT99jPqILIng"
   },
   "source": [
    "If the classes are imbalanced, consider resampling techniques such as oversampling the minority class or using weighted models."
   ]
  }
 ],
 "metadata": {
  "colab": {
   "provenance": []
  },
  "kernelspec": {
   "display_name": "Python 3",
   "language": "python",
   "name": "python3"
  },
  "language_info": {
   "codemirror_mode": {
    "name": "ipython",
    "version": 3
   },
   "file_extension": ".py",
   "mimetype": "text/x-python",
   "name": "python",
   "nbconvert_exporter": "python",
   "pygments_lexer": "ipython3",
   "version": "3.12.3"
  }
 },
 "nbformat": 4,
 "nbformat_minor": 0
}
